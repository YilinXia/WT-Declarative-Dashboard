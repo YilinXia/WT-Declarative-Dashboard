{
 "cells": [
  {
   "cell_type": "code",
   "execution_count": null,
   "metadata": {},
   "outputs": [
    {
     "name": "stderr",
     "output_type": "stream",
     "text": [
      "yt : [INFO     ] 2020-08-05 08:48:38,091 Parameters: current_time              = 0.0060000200028298\n",
      "yt : [INFO     ] 2020-08-05 08:48:38,092 Parameters: domain_dimensions         = [32 32 32]\n",
      "yt : [INFO     ] 2020-08-05 08:48:38,092 Parameters: domain_left_edge          = [0. 0. 0.]\n",
      "yt : [INFO     ] 2020-08-05 08:48:38,093 Parameters: domain_right_edge         = [1. 1. 1.]\n",
      "yt : [INFO     ] 2020-08-05 08:48:38,094 Parameters: cosmological_simulation   = 0.0\n",
      "Parsing Hierarchy : 100%|██████████████████████████████████████████████████████████| 173/173 [00:00<00:00, 7863.44it/s]\n",
      "yt : [INFO     ] 2020-08-05 08:48:38,142 Gathering a field list (this may take a moment.)\n"
     ]
    }
   ],
   "source": [
    "import yt\n",
    "import widgyts.dataset_viewer as dsv\n",
    "ds = yt.load(\"IsolatedGalaxy/galaxy0030/galaxy0030\")\n",
    "v = dsv.DatasetViewer(ds = ds, components = [])\n",
    "adv = dsv.AMRDomainViewer(ds = ds, viewer = v)\n",
    "adv.widget()"
   ]
  },
  {
   "cell_type": "code",
   "execution_count": null,
   "metadata": {},
   "outputs": [],
   "source": []
  }
 ],
 "metadata": {
  "kernelspec": {
   "display_name": "Python 3",
   "language": "python",
   "name": "python3"
  },
  "language_info": {
   "codemirror_mode": {
    "name": "ipython",
    "version": 3
   },
   "file_extension": ".py",
   "mimetype": "text/x-python",
   "name": "python",
   "nbconvert_exporter": "python",
   "pygments_lexer": "ipython3",
   "version": "3.7.4"
  },
  "toc": {
   "base_numbering": 1,
   "nav_menu": {},
   "number_sections": true,
   "sideBar": true,
   "skip_h1_title": false,
   "title_cell": "Table of Contents",
   "title_sidebar": "Contents",
   "toc_cell": false,
   "toc_position": {},
   "toc_section_display": true,
   "toc_window_display": false
  }
 },
 "nbformat": 4,
 "nbformat_minor": 4
}
